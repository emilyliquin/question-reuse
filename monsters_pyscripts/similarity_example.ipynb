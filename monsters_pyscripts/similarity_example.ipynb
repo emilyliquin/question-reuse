{
 "cells": [
  {
   "cell_type": "code",
   "execution_count": 1,
   "metadata": {},
   "outputs": [],
   "source": [
    "import warnings\n",
    "warnings.filterwarnings('ignore')\n",
    "\n",
    "from distance import get_sim \n",
    "from textsim_sbert import get_text_sim"
   ]
  },
  {
   "cell_type": "markdown",
   "metadata": {},
   "source": [
    "## Tree edit distance:\n",
    "- Given two program representations, minimum number of edits to get from one to the other"
   ]
  },
  {
   "cell_type": "code",
   "execution_count": 2,
   "metadata": {},
   "outputs": [
    {
     "data": {
      "text/plain": [
       "3.0"
      ]
     },
     "execution_count": 2,
     "metadata": {},
     "output_type": "execute_result"
    }
   ],
   "source": [
    "# How many legs do all the monsters have combined together?\n",
    "# vs. \"How many monsters have a square head?\"\n",
    "get_sim(\"(++ (map (lambda x0 (legs x0)) (set b r p)))\", \"(++ (map (lambda x0 (== (shape x0) Square)) (set b r p)))\")"
   ]
  },
  {
   "cell_type": "code",
   "execution_count": 3,
   "metadata": {},
   "outputs": [
    {
     "data": {
      "text/plain": [
       "4.0"
      ]
     },
     "execution_count": 3,
     "metadata": {},
     "output_type": "execute_result"
    }
   ],
   "source": [
    "# Does the red monster have the same head shape as the blue monster? \n",
    "# vs. \"How many legs does the blue monster have?\"\n",
    "get_sim(\"(== (shape r) (shape b))\", \"(legs b)\")"
   ]
  },
  {
   "cell_type": "markdown",
   "metadata": {},
   "source": [
    "## Text similarity:\n",
    "- Given two natural language questions, how similar are they?\n",
    "- Each question is transformed into a pretrained sentence-BERT embedding\n",
    "- The similarity is the cosine similarity between the two embeddings"
   ]
  },
  {
   "cell_type": "code",
   "execution_count": 4,
   "metadata": {},
   "outputs": [
    {
     "data": {
      "text/plain": [
       "0.6724658012390137"
      ]
     },
     "execution_count": 4,
     "metadata": {},
     "output_type": "execute_result"
    }
   ],
   "source": [
    "get_text_sim(\"How many legs do all the monsters have combined together?\", \"How many monsters have a square head?\")"
   ]
  },
  {
   "cell_type": "code",
   "execution_count": 5,
   "metadata": {},
   "outputs": [
    {
     "data": {
      "text/plain": [
       "0.6043686866760254"
      ]
     },
     "execution_count": 5,
     "metadata": {},
     "output_type": "execute_result"
    }
   ],
   "source": [
    "get_text_sim(\"Does the red monster have the same head shape as the blue monster?\", \"How many legs does the blue monster have?\")"
   ]
  }
 ],
 "metadata": {
  "kernelspec": {
   "display_name": "dqashare",
   "language": "python",
   "name": "python3"
  },
  "language_info": {
   "codemirror_mode": {
    "name": "ipython",
    "version": 3
   },
   "file_extension": ".py",
   "mimetype": "text/x-python",
   "name": "python",
   "nbconvert_exporter": "python",
   "pygments_lexer": "ipython3",
   "version": "3.10.11"
  }
 },
 "nbformat": 4,
 "nbformat_minor": 2
}
