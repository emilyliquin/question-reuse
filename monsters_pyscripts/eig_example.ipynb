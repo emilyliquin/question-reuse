{
 "cells": [
  {
   "cell_type": "code",
   "execution_count": 1,
   "metadata": {},
   "outputs": [],
   "source": [
    "from eig.monsters import Object, ObjectSetHypothesis, ObjectSetHypothesisSpace, UniformDistribution\n",
    "import numpy as np\n",
    "from math import log2\n",
    "from itertools import permutations\n",
    "from eig import compute_eig, Bayes, Context, entropy\n",
    "from eig.monsters import Parser, Executor\n",
    "from eig.monsters.program import ProgramSyntaxError"
   ]
  },
  {
   "cell_type": "markdown",
   "metadata": {},
   "source": [
    "## Getting the answer to a question"
   ]
  },
  {
   "cell_type": "markdown",
   "metadata": {},
   "source": [
    "### 1. Set up the environment\n",
    "\n",
    "monsters:\n",
    "- r = red\n",
    "- b = blue\n",
    "- p = purple\n",
    "\n",
    "shapes: \n",
    "- 1 = square\n",
    "- 2 = circle\n",
    "\n",
    "legs (i.e., \"size\"): \n",
    "- 1 = 1 leg\n",
    "- 2 = 2 legs\n",
    "- 3 = 3 legs"
   ]
  },
  {
   "cell_type": "code",
   "execution_count": 2,
   "metadata": {},
   "outputs": [],
   "source": [
    "monsters = [Object(object_label=\"r\", shape=2, size=3, color=\"red\"),\n",
    "             Object(object_label=\"b\", shape=1, size=2, color=\"blue\"),\n",
    "             Object(object_label=\"p\", shape=2, size=1, color=\"purple\")]\n",
    "\n",
    "true_hypothesis = ObjectSetHypothesis(objects=monsters)"
   ]
  },
  {
   "cell_type": "markdown",
   "metadata": {},
   "source": [
    "### 2. Parse question and execute it on the environment"
   ]
  },
  {
   "cell_type": "code",
   "execution_count": 3,
   "metadata": {},
   "outputs": [
    {
     "name": "stdout",
     "output_type": "stream",
     "text": [
      "3\n"
     ]
    }
   ],
   "source": [
    "# How many unique leg counts are there?\n",
    "question = Parser.parse(\"(setSize (unique (map (lambda x0 (legs x0)) (set b r p))))\")\n",
    "executor = Executor(question)\n",
    "\n",
    "answer = executor.execute(true_hypothesis)\n",
    "print(answer)"
   ]
  },
  {
   "cell_type": "code",
   "execution_count": 4,
   "metadata": {},
   "outputs": [
    {
     "name": "stdout",
     "output_type": "stream",
     "text": [
      "True\n"
     ]
    }
   ],
   "source": [
    "# Does the purple monster have a circle head?\n",
    "question = Parser.parse(\"(== (shape p) Circle)\")\n",
    "executor = Executor(question)\n",
    "\n",
    "answer = executor.execute(true_hypothesis)\n",
    "print(answer)"
   ]
  },
  {
   "cell_type": "code",
   "execution_count": 5,
   "metadata": {},
   "outputs": [
    {
     "name": "stdout",
     "output_type": "stream",
     "text": [
      "False\n"
     ]
    }
   ],
   "source": [
    "# Do the red and blue monsters have the same shaped head?\n",
    "question = Parser.parse(\"(== (shape r) (shape b))\")\n",
    "executor = Executor(question)\n",
    "\n",
    "answer = executor.execute(true_hypothesis)\n",
    "print(answer)"
   ]
  },
  {
   "cell_type": "markdown",
   "metadata": {},
   "source": [
    "## Computing a question's informativeness (EIG)"
   ]
  },
  {
   "cell_type": "markdown",
   "metadata": {},
   "source": [
    "### 1. Set up prior belief state (before hint)"
   ]
  },
  {
   "cell_type": "code",
   "execution_count": 6,
   "metadata": {},
   "outputs": [],
   "source": [
    "hypotheses = ObjectSetHypothesisSpace(object_colors=[\"red\", \"blue\", \"purple\"], object_sizes=[1, 2, 3], object_shapes=[1, 2])\n",
    "prior = UniformDistribution()  \n",
    "belief = Bayes(hypotheses, prior) # belief over hypotheses"
   ]
  },
  {
   "cell_type": "markdown",
   "metadata": {},
   "source": [
    "### 1. Update beliefs to account for hint\n",
    "\n",
    "Hint takes the following form: [[red_head, red_legs], [blue_head, blue_legs], [purple_head, purple_legs]]\n",
    "\n",
    "For each entry, -1 indicates that the feature is hidden.\n",
    "\n",
    "So, for example, if the hint is [[-1, 2], [1, 3], [-1, -1]], this means:\n",
    "- the red monster has a hidden head and two legs\n",
    "- the blue monster has a square head and three legs\n",
    "- the purple monster has a hidden head and hidden legs\n",
    "\n",
    "As above, 1 = square, 2 = circle, 1 = 1 leg, 2 = 2 legs, 3 = 3 legs"
   ]
  },
  {
   "cell_type": "code",
   "execution_count": 11,
   "metadata": {},
   "outputs": [
    {
     "data": {
      "text/plain": [
       "2.0"
      ]
     },
     "execution_count": 11,
     "metadata": {},
     "output_type": "execute_result"
    }
   ],
   "source": [
    "context = Context(hypotheses, belief)   \n",
    "context.observe(np.array([[1, 2], [-1, 3], [-1, 2]]))\n",
    "\n",
    "# can also get entropy of current belief (how much uncertainty is there?)\n",
    "entropy(context.belief.belief)"
   ]
  },
  {
   "cell_type": "markdown",
   "metadata": {},
   "source": [
    "### 3. Parse question and compute EIG"
   ]
  },
  {
   "cell_type": "code",
   "execution_count": 32,
   "metadata": {},
   "outputs": [
    {
     "name": "stdout",
     "output_type": "stream",
     "text": [
      "1.0\n"
     ]
    }
   ],
   "source": [
    "# Does the blue monster have a Square head?\n",
    "question = Parser.parse(\"(== (shape b) Square)\")\n",
    "executor = Executor(question)\n",
    "\n",
    "eig = compute_eig(executor, context)\n",
    "print(eig)"
   ]
  },
  {
   "cell_type": "code",
   "execution_count": 33,
   "metadata": {},
   "outputs": [
    {
     "name": "stdout",
     "output_type": "stream",
     "text": [
      "1.5\n"
     ]
    }
   ],
   "source": [
    "# How many monsters have a square head?\n",
    "question = Parser.parse(\"(++ (map (lambda x0 (== (shape x0) Square)) (set b r p)))\")\n",
    "executor = Executor(question)\n",
    "\n",
    "eig = compute_eig(executor, context)\n",
    "print(eig)"
   ]
  },
  {
   "cell_type": "code",
   "execution_count": 34,
   "metadata": {},
   "outputs": [
    {
     "name": "stdout",
     "output_type": "stream",
     "text": [
      "-0.0\n"
     ]
    }
   ],
   "source": [
    "# How many legs do all the monsters have combined together?\n",
    "question = Parser.parse(\"(++ (map (lambda x0 (legs x0)) (set b r p)))\")\n",
    "executor = Executor(question)\n",
    "\n",
    "eig = compute_eig(executor, context)\n",
    "print(eig)"
   ]
  }
 ],
 "metadata": {
  "kernelspec": {
   "display_name": "dqashare",
   "language": "python",
   "name": "python3"
  },
  "language_info": {
   "codemirror_mode": {
    "name": "ipython",
    "version": 3
   },
   "file_extension": ".py",
   "mimetype": "text/x-python",
   "name": "python",
   "nbconvert_exporter": "python",
   "pygments_lexer": "ipython3",
   "version": "3.10.11"
  }
 },
 "nbformat": 4,
 "nbformat_minor": 2
}
